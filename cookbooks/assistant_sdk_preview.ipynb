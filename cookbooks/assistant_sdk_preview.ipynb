{
 "cells": [
  {
   "attachments": {},
   "cell_type": "markdown",
   "metadata": {},
   "source": [
    "# AppBuilder Assisstant SDK Preview版本演示\n",
    "\n",
    "## 一、背景\n",
    "\n",
    "AppBuilder 提供了页面的零代码 + SDK 低代码态的Agent创建方式，可以满足大部分用户的需求。\n",
    "\n",
    "同时，很多进阶开发者依赖纯代码态的Agent创建，并会基于该功能进阶实现自定义 FuntionCall等功能。很多开发者很喜欢[OpenAI Assistant Api](https://platform.openai.com/docs/assistants/overview?context=with-streaming)，希望在AppBuilder中实现类似的功能，以方便国内开发者的使用。\n",
    "\n",
    "因此，我们提供了Assistant SDK Preview版本，让开发者可以基于AppBuilder的SDK进行AssistantAgent的开发。\n",
    "\n",
    "下面进行Assistant SDK Preview版本演示，正式版会在五月上旬发布。"
   ]
  },
  {
   "attachments": {},
   "cell_type": "markdown",
   "metadata": {},
   "source": [
    "## 二、环境准备\n",
    "\n",
    "### 2.1、AppBuilder-SDK Preview版本安装\n",
    "\n",
    "**注意：** 要求python3 版本 >= 3.9"
   ]
  },
  {
   "cell_type": "code",
   "execution_count": null,
   "metadata": {},
   "outputs": [],
   "source": [
    "!wget xxxxxx/appbuilder-preview-0415.whl\n",
    "!python3 -m pip install appbuilder-preview-0415.whl"
   ]
  },
  {
   "cell_type": "code",
   "execution_count": 17,
   "metadata": {},
   "outputs": [
    {
     "name": "stdout",
     "output_type": "stream",
     "text": [
      "AppBuilder 模块导入成功！\n",
      "您的AppBuilder Token为：preview_token\n"
     ]
    }
   ],
   "source": [
    "import os\n",
    "import appbuilder\n",
    "\n",
    "os.environ[\"GATEWAY_URL\"] = \"preview_gateway\"\n",
    "os.environ[\"APPBUILDER_TOKEN\"] = \"preview_token\"\n",
    "\n",
    "print(\"AppBuilder 模块导入成功！\")\n",
    "print(\"您的AppBuilder Token为：{}\".format(os.environ['APPBUILDER_TOKEN']))"
   ]
  },
  {
   "attachments": {},
   "cell_type": "markdown",
   "metadata": {},
   "source": [
    "### 2.2、申请AppBuilder-Assistant API 内测资格\n",
    "\n",
    "请访问[AppBuilder-Assistant 功能内测](https://console.bce.baidu.com/ai_apaas/appCenter)网页，填写表单，申请内测资格，获得体验AppBuilder-Assistant功能的密钥"
   ]
  },
  {
   "attachments": {},
   "cell_type": "markdown",
   "metadata": {},
   "source": [
    "## 三、基础功能\n",
    "\n",
    "完成环境准备步骤后，我们就可以通过appbuilder-sdk调用 appbuilder-assistant 提供的服务\n",
    "\n",
    "### 3.1、Assistant创建"
   ]
  },
  {
   "cell_type": "code",
   "execution_count": 2,
   "metadata": {},
   "outputs": [
    {
     "name": "stdout",
     "output_type": "stream",
     "text": [
      "Assistant 创建成功!\n",
      "Assistant 基础信息如下： Assistant(id=asst_8290f8299738414c9151d773671b18e0, assistant_config=AssistantConfig(name=技术文档撰写专家, description=你是一位优秀的技术文档撰写专家， 给用户提供技术文档写作建议, metadata={}, response_format=text, instructions=请将该用户称为王先生，该用户注册了高级会员, thought_instructions=, chat_instructions=, builtin_tools=[], thirdparty_tools=[] file_ids=[]))\n"
     ]
    }
   ],
   "source": [
    "# 创建AssistantConfig，填写Assistant Agent的配置信息\n",
    "assistant_config = appbuilder.AssistantConfig(\n",
    "    name=\"技术文档撰写专家\",\n",
    "    description=\"你是一位优秀的技术文档撰写专家， 给用户提供技术文档写作建议\",\n",
    "    instructions=\"请将该用户称为王先生，该用户注册了高级会员\",\n",
    ")\n",
    "\n",
    "assistant = appbuilder.assistants.assistants.create(assistant_config)\n",
    "\n",
    "print(\"Assistant 创建成功!\")\n",
    "print(\"Assistant 基础信息如下: {}\".format(assistant))"
   ]
  },
  {
   "attachments": {},
   "cell_type": "markdown",
   "metadata": {},
   "source": [
    "### 3.2、Conversation 的 创建"
   ]
  },
  {
   "cell_type": "code",
   "execution_count": 7,
   "metadata": {},
   "outputs": [
    {
     "name": "stdout",
     "output_type": "stream",
     "text": [
      "Conversation 会话创建成功!\n",
      "Conversation 基础信息如下: Conversation(id=thread_06e35d833af84fcda27df7708820281d, messages=[])\n"
     ]
    }
   ],
   "source": [
    "conversation = appbuilder.assistants.conversations.create()\n",
    "\n",
    "print(\"Conversation 会话创建成功!\")\n",
    "print(\"Conversation 基础信息如下: {}\".format(conversation))"
   ]
  },
  {
   "attachments": {},
   "cell_type": "markdown",
   "metadata": {},
   "source": [
    "### 3.3、Message 的 创建"
   ]
  },
  {
   "cell_type": "code",
   "execution_count": 8,
   "metadata": {},
   "outputs": [
    {
     "name": "stdout",
     "output_type": "stream",
     "text": [
      "Message 添加到 Conversation thread_06e35d833af84fcda27df7708820281d 成功！\n",
      "Message 基础信息如下：id='msg_da931a68129341ecb635ffdddc16f4e6' object='thread.message' name='' role='user' content=[AssistantContent(type='text', text=AssistantText(value='请帮我写一份技术文档', annotations=[]))] metadata={} created_at=1713122761265 thread_id='thread_06e35d833af84fcda27df7708820281d' content_type='text' assistant_id=None run_id=None file_ids=[]\n"
     ]
    }
   ],
   "source": [
    "message = appbuilder.assistants.messages.create(\n",
    "    conversation_id=conversation.id,\n",
    "    content=\"请帮我写一份技术文档\",\n",
    ")\n",
    "\n",
    "print(\"Message 添加到 Conversation {} 成功！\".format(conversation.id))\n",
    "print(\"Message 基础信息如下：{}\".format(message))"
   ]
  },
  {
   "attachments": {},
   "cell_type": "markdown",
   "metadata": {},
   "source": [
    "### 3.5、使用同步非流式 模式 运行该轮对话"
   ]
  },
  {
   "cell_type": "code",
   "execution_count": 9,
   "metadata": {},
   "outputs": [
    {
     "name": "stdout",
     "output_type": "stream",
     "text": [
      "data:  {'id': 'run_0a9b1fe3aaaa4f3497ae78e3ff018447', 'object': 'run.result', 'status': 'completed', 'log_id': '48c66b7d-6ab6-40ad-9441-47159b15401a', 'created_at': 1713122764372, 'assistant_id': 'asst_8290f8299738414c9151d773671b18e0', 'thread_id': 'thread_06e35d833af84fcda27df7708820281d', 'started_at': 1713122764403, 'expired_at': 0, 'cancelled_at': 0, 'failed_at': 0, 'completed_at': 1713122771467, 'required_action': None, 'final_answer': {'type': 'message', 'message': {'content': {'type': 'text', 'text': {'value': '当然可以帮您写一份技术文档。不过，我需要先了解一下您对这份文档的具体要求。比如，您希望文档的主题是什么？目标受众是谁？需要包含哪些关键点？这些信息将帮助我更好地完成您的需求。'}}, 'message_id': 'chatmsg_51f877598ce44499b729fc17abf2709b'}}, 'last_error': None}\n",
      "Run 成功！\n",
      "RunResult 基础信息如下：id='run_0a9b1fe3aaaa4f3497ae78e3ff018447' object='run.result' assistant_id='asst_8290f8299738414c9151d773671b18e0' thread_id='thread_06e35d833af84fcda27df7708820281d' model='' instructions='' tools=None file_ids=None status='completed' required_action=None last_error=None final_answer=FinalAnswer(type='message', message=Message(name='msg', content={'type': 'text', 'text': {'value': '当然可以帮您写一份技术文档。不过，我需要先了解一下您对这份文档的具体要求。比如，您希望文档的主题是什么？目标受众是谁？需要包含哪些关键点？这些信息将帮助我更好地完成您的需求。'}}, mtype='dict')) created_at=1713122764372 started_at=1713122764403 expired_at=0 cancelled_at=0 failed_at=0 completed_at=1713122771467\n"
     ]
    }
   ],
   "source": [
    "run_result = appbuilder.assistants.runs.run(\n",
    "    conversation_id=conversation.id,\n",
    "    assistant_id=assistant.id,\n",
    ")\n",
    "\n",
    "print(\"Run 成功！\")\n",
    "print(\"RunResult 基础信息如下：{}\".format(run_result))"
   ]
  },
  {
   "attachments": {},
   "cell_type": "markdown",
   "metadata": {},
   "source": [
    "## 四、进阶功能\n",
    "\n",
    "### 4.1、使用同步流式 模式 运行该轮对话"
   ]
  },
  {
   "cell_type": "code",
   "execution_count": 10,
   "metadata": {},
   "outputs": [
    {
     "name": "stdout",
     "output_type": "stream",
     "text": [
      "status='queued' send_id=1 message='begin to run. logId:da681a8c-d01c-4d08-b223-523254c0bfab' event_type='run_begin' details=StreamRunDetail(type='run_object', message_creation=None, run_object=RunResult(id='run_d3228cc5b61d412baec7c01df22a0fdc', object='thread.run', assistant_id='asst_8290f8299738414c9151d773671b18e0', thread_id='thread_06e35d833af84fcda27df7708820281d', model='qf-assistant-api3-latest', instructions='请将该用户称为王先生，该用户注册了高级会员', tools=[], file_ids=None, status='queued', required_action=None, last_error=None, final_answer=None, created_at=1713122932350, started_at=1713122932391, expired_at=0, cancelled_at=0, failed_at=0, completed_at=0), run_step_object=None, action_info=None, tool_calls=None, tool_info=None, error_info=None)\n",
      "status='in_progress' send_id=2 message='begin to run step' event_type='tool_step_begin' details=StreamRunDetail(type='run_step_object', message_creation=None, run_object=None, run_step_object=RunStepResult(id='step-1', object='thread.run.step', assistant_id='asst_8290f8299738414c9151d773671b18e0', thread_id='thread_06e35d833af84fcda27df7708820281d', run_id='run_d3228cc5b61d412baec7c01df22a0fdc', status='in_progress', created_at=1713122932396, started_at=0, expired_at=0, cancelled_at=0, failed_at=0, completed_at=0, last_error=None, type='null', step_datail=None), action_info=None, tool_calls=None, tool_info=None, error_info=None)\n",
      "status='in_progress' send_id=3 message='message created' event_type='message_creation' details=StreamRunDetail(type='message_creation', message_creation=RunMessageCreation(message_id='chatmsg_2f96c249a8314ff3ac6db65eb0007dda'), run_object=None, run_step_object=None, action_info=None, tool_calls=None, tool_info=None, error_info=None)\n",
      "status='completed' send_id=4 is_end=0 message_id='chatmsg_2f96c249a8314ff3ac6db65eb0007dda' message_index='' content=[AssistantContent(type='text', text=AssistantText(value='王先生，为了更好地帮助您撰写关于大模型应用的技术文档，我需要了解一下您对文档的具体要求。请问这份文档的目标受众是谁？是技术专家、初学者还是其他人群？另外，您希望文档中包含哪些关键点，比如大模型的原理、应用场景、性能评估等方面？同时，是否有特定的格式或结构要求？了解这些后，我将能更准确地帮助您撰写一份符合需求的技术文档。', annotations=None))] metadata={'finish_reason': 'normal'}\n",
      "status='completed' send_id=5 message='step end' event_type='tool_step_end' details=StreamRunDetail(type='run_step_object', message_creation=None, run_object=None, run_step_object=RunStepResult(id='step-1', object='thread.run.step', assistant_id='asst_8290f8299738414c9151d773671b18e0', thread_id='thread_06e35d833af84fcda27df7708820281d', run_id='run_d3228cc5b61d412baec7c01df22a0fdc', status='completed', created_at=1713122932396, started_at=0, expired_at=0, cancelled_at=0, failed_at=0, completed_at=1713122942400, last_error=None, type='null', step_datail=None), action_info=None, tool_calls=None, tool_info=None, error_info=None)\n",
      "status='completed' send_id=6 message='run end. duration:10s logId:da681a8c-d01c-4d08-b223-523254c0bfab' event_type='run_end' details=StreamRunDetail(type='run_object', message_creation=None, run_object=RunResult(id='run_d3228cc5b61d412baec7c01df22a0fdc', object='thread.run', assistant_id='asst_8290f8299738414c9151d773671b18e0', thread_id='thread_06e35d833af84fcda27df7708820281d', model='qf-assistant-api3-latest', instructions='***', tools=[], file_ids=None, status='completed', required_action=None, last_error=None, final_answer=None, created_at=1713122932350, started_at=1713122932391, expired_at=0, cancelled_at=0, failed_at=0, completed_at=1713122942400), run_step_object=None, action_info=None, tool_calls=None, tool_info=None, error_info=None)\n"
     ]
    }
   ],
   "source": [
    "appbuilder.assistants.messages.create(\n",
    "    conversation_id=conversation.id,\n",
    "    content=\"我想写一篇关于大模型应用相关的技术文档？\",\n",
    ")\n",
    "\n",
    "run_result = appbuilder.assistants.runs.stream_run(\n",
    "    conversation_id=conversation.id,\n",
    "    assistant_id=assistant.id,\n",
    ")\n",
    "\n",
    "for result_detail in run_result:\n",
    "    print(result_detail)"
   ]
  },
  {
   "attachments": {},
   "cell_type": "markdown",
   "metadata": {},
   "source": [
    "### 4.2、自定义FunctionCall"
   ]
  },
  {
   "attachments": {},
   "cell_type": "markdown",
   "metadata": {},
   "source": [
    "- 首先需要自定义一个function，我们简单实现一个天气查询工程"
   ]
  },
  {
   "cell_type": "code",
   "execution_count": 11,
   "metadata": {},
   "outputs": [],
   "source": [
    "def get_cur_whether(location:str, unit:str):\n",
    "    return \"{} 的当前温度是30 {}\".format(location, unit)"
   ]
  },
  {
   "attachments": {},
   "cell_type": "markdown",
   "metadata": {},
   "source": [
    "- 而后创建一个具有tool调用功能的Assistant"
   ]
  },
  {
   "cell_type": "code",
   "execution_count": 12,
   "metadata": {},
   "outputs": [],
   "source": [
    "assistant_config = appbuilder.AssistantConfig(\n",
    "    name=\"热心市民\",\n",
    "    description=\"你是一个热心市民\",\n",
    "    instructions=\"请回答其他人的问题\",\n",
    ")\n",
    "\n",
    "whether_tool = {\n",
    "    \"name\": \"get_cur_whether\",\n",
    "    \"description\": \"这是一个获得当地天气的工具\",\n",
    "    \"parameters\": {\n",
    "            \"type\": \"object\",\n",
    "            \"properties\": {\n",
    "                \"location\": {\n",
    "                    \"type\": \"string\",\n",
    "                    \"description\": \"省，市名，例如：河北省\"\n",
    "                },\n",
    "                \"unit\": {\n",
    "                    \"type\": \"string\",\n",
    "                    \"enum\": [\n",
    "                        \"摄氏度\",\n",
    "                        \"华氏度\"\n",
    "                    ]\n",
    "                }\n",
    "            },\n",
    "        \"required\": [\n",
    "                \"location\"\n",
    "            ]\n",
    "    }\n",
    "}\n",
    "\n",
    "assistant_config.thirdparty_tools.append(whether_tool)\n",
    "\n",
    "assistant = appbuilder.assistants.assistants.create(assistant_config)"
   ]
  },
  {
   "attachments": {},
   "cell_type": "markdown",
   "metadata": {},
   "source": [
    "- 创建conversation 与 message"
   ]
  },
  {
   "cell_type": "code",
   "execution_count": 13,
   "metadata": {},
   "outputs": [
    {
     "data": {
      "text/plain": [
       "AssistantMessageCreateResponse(id='msg_eafe272a5746427489199982b99d14e3', object='thread.message', name='', role='user', content=[AssistantContent(type='text', text=AssistantText(value='今天北京的天气怎么样？', annotations=[]))], metadata={}, created_at=1713123293980, thread_id='thread_c4b3259b34194b72ba6f0de3d8b03aa4', content_type='text', assistant_id=None, run_id=None, file_ids=[])"
      ]
     },
     "execution_count": 13,
     "metadata": {},
     "output_type": "execute_result"
    }
   ],
   "source": [
    "conversation = appbuilder.assistants.conversations.create()\n",
    "\n",
    "appbuilder.assistants.messages.create(\n",
    "    conversation_id=conversation.id,\n",
    "    content=\"今天北京的天气怎么样？\",\n",
    ")"
   ]
  },
  {
   "attachments": {},
   "cell_type": "markdown",
   "metadata": {},
   "source": [
    "- 进行第一轮对话，触发FunctionCall的调用"
   ]
  },
  {
   "cell_type": "code",
   "execution_count": 14,
   "metadata": {},
   "outputs": [
    {
     "name": "stdout",
     "output_type": "stream",
     "text": [
      "data:  {'id': 'run_b7a17c02d38a47179aa282ca67f9e730', 'object': 'run.result', 'status': 'requires_action', 'log_id': 'caa750d0-3fdb-453d-b34f-a4415ff66c33', 'created_at': 1713123301360, 'assistant_id': 'asst_fcf84043927d4906922ffe08c89820ed', 'thread_id': 'thread_c4b3259b34194b72ba6f0de3d8b03aa4', 'started_at': 1713123301391, 'expired_at': 0, 'cancelled_at': 0, 'failed_at': 0, 'completed_at': 0, 'required_action': {'type': 'submit_tool_outputs', 'submit_tool_outputs': {'tool_calls': [{'id': 'call-thread_c4b3259b34194b72ba6f0de3d8b03aa4-run_b7a17c02d38a47179aa282ca67f9e730-step-1', 'type': 'function', 'function': {'name': 'get_cur_whether', 'arguments': '{\"location\":\"北京\",\"unit\":\"摄氏度\"}'}}]}}, 'final_answer': None, 'last_error': None}\n",
      "\n",
      "First run result: id='run_b7a17c02d38a47179aa282ca67f9e730' object='run.result' assistant_id='asst_fcf84043927d4906922ffe08c89820ed' thread_id='thread_c4b3259b34194b72ba6f0de3d8b03aa4' model='' instructions='' tools=None file_ids=None status='requires_action' required_action=RequiredAction(type='submit_tool_outputs', submit_tool_outputs=SubmitToolOutput(tool_calls=[ToolCall(id='call-thread_c4b3259b34194b72ba6f0de3d8b03aa4-run_b7a17c02d38a47179aa282ca67f9e730-step-1', type='function', function=FuncitonCall(name='get_cur_whether', arguments='{\"location\":\"北京\",\"unit\":\"摄氏度\"}', output=''))])) last_error=None final_answer=None created_at=1713123301360 started_at=1713123301391 expired_at=0 cancelled_at=0 failed_at=0 completed_at=0\n",
      "\n"
     ]
    }
   ],
   "source": [
    "run_result = appbuilder.assistants.runs.run(\n",
    "    conversation_id=conversation.id,\n",
    "    assistant_id=assistant.id,\n",
    ")\n",
    "print(\"\\nFirst run result: {}\\n\".format(run_result))"
   ]
  },
  {
   "attachments": {},
   "cell_type": "markdown",
   "metadata": {},
   "source": [
    "- 执行FuntionCall，得到Function Result"
   ]
  },
  {
   "cell_type": "code",
   "execution_count": 15,
   "metadata": {},
   "outputs": [
    {
     "name": "stdout",
     "output_type": "stream",
     "text": [
      "\n",
      "Function result: 北京 的当前温度是30 摄氏度\n",
      "\n"
     ]
    }
   ],
   "source": [
    "tool_call = run_result.required_action.submit_tool_outputs.tool_calls[0]\n",
    "func_res = get_cur_whether(**eval(tool_call.function.arguments))\n",
    "print(\"\\nFunction result: {}\\n\".format(func_res))"
   ]
  },
  {
   "attachments": {},
   "cell_type": "markdown",
   "metadata": {},
   "source": [
    "- 提交本地的FuncitonCall运行结果，继续该轮对话"
   ]
  },
  {
   "cell_type": "code",
   "execution_count": 16,
   "metadata": {},
   "outputs": [
    {
     "name": "stdout",
     "output_type": "stream",
     "text": [
      "data:  {'id': 'run_b7a17c02d38a47179aa282ca67f9e730', 'object': 'run.result', 'status': 'completed', 'log_id': '88f5b69a-8445-4832-8778-66a08ac19e49', 'created_at': 1713123301360, 'assistant_id': 'asst_fcf84043927d4906922ffe08c89820ed', 'thread_id': 'thread_c4b3259b34194b72ba6f0de3d8b03aa4', 'started_at': 1713123327876, 'expired_at': 0, 'cancelled_at': 0, 'failed_at': 0, 'completed_at': 1713123333066, 'required_action': None, 'final_answer': {'type': 'message', 'message': {'content': {'type': 'text', 'text': {'value': '根据我查询到的信息，今天北京的天气温度是30摄氏度。希望这个信息对你有所帮助。如果你还有其他问题或需要更多信息，请随时告诉我。'}}, 'message_id': 'chatmsg_68bf0c310b324c8cb49822ec3238cab7'}}, 'last_error': None}\n",
      "\n",
      "Final run result: id='run_b7a17c02d38a47179aa282ca67f9e730' object='run.result' assistant_id='asst_fcf84043927d4906922ffe08c89820ed' thread_id='thread_c4b3259b34194b72ba6f0de3d8b03aa4' model='' instructions='' tools=None file_ids=None status='completed' required_action=None last_error=None final_answer=FinalAnswer(type='message', message=Message(name='msg', content={'type': 'text', 'text': {'value': '根据我查询到的信息，今天北京的天气温度是30摄氏度。希望这个信息对你有所帮助。如果你还有其他问题或需要更多信息，请随时告诉我。'}}, mtype='dict')) created_at=1713123301360 started_at=1713123327876 expired_at=0 cancelled_at=0 failed_at=0 completed_at=1713123333066\n",
      "\n"
     ]
    }
   ],
   "source": [
    "run_result = appbuilder.assistants.runs.run(\n",
    "    conversation_id=conversation.id,\n",
    "    assistant_id=assistant.id,\n",
    "    tool_output={\"tool_call_id\":tool_call.id, \"output\": func_res, \"run_id\": run_result.id},\n",
    ")\n",
    "print(\"\\nFinal run result: {}\\n\".format(run_result))"
   ]
  },
  {
   "attachments": {},
   "cell_type": "markdown",
   "metadata": {},
   "source": [
    "## 五、总结\n",
    "\n",
    "纯代码态的AppBuilder Assistant SDK适用于进阶开发者，提供了FunctionCall 及 自定义编排Agent运行流程的能力。\n",
    "\n",
    "本文演示了如何使用Assistant SDK的基本功能与进阶功能，包括：\n",
    "- Assistant 创建\n",
    "- Conversation 及 Message 创建\n",
    "- 同步非流式 及 同步流式运行方法\n",
    "- FuncitonCall 调用能力"
   ]
  }
 ],
 "metadata": {
  "kernelspec": {
   "display_name": "Python 3",
   "language": "python",
   "name": "python3"
  },
  "language_info": {
   "codemirror_mode": {
    "name": "ipython",
    "version": 3
   },
   "file_extension": ".py",
   "mimetype": "text/x-python",
   "name": "python",
   "nbconvert_exporter": "python",
   "pygments_lexer": "ipython3",
   "version": "3.9.6"
  },
  "orig_nbformat": 4,
  "vscode": {
   "interpreter": {
    "hash": "31f2aee4e71d21fbe5cf8b01ff0e069b9275f58929596ceb00d14d90e3e16cd6"
   }
  }
 },
 "nbformat": 4,
 "nbformat_minor": 2
}
